{
 "cells": [
  {
   "cell_type": "code",
   "execution_count": null,
   "metadata": {},
   "outputs": [],
   "source": [
    "regressors = [\n",
    "    {'model': cumlLinReg(), 'params': {}, 'train_x' : energy_in_test, 'train_y': energy_in_labels},\n",
    "    {'model': cumlSGD(), 'params': {}, 'train_x' : energy_in_test, 'train_y': energy_in_labels},\n",
    "    {'model': cumlElastincNet(), 'params': {}, 'train_x' : energy_in_test, 'train_y': energy_in_labels},\n",
    "    {'model': cumlLasso(), 'params': {}, 'train_x' : energy_in_test, 'train_y': energy_in_labels},\n",
    "    {'model': cumlRidge(), 'params': {}, 'train_x' : energy_in_test, 'train_y': energy_in_labels},\n",
    "    #{'model': SVR(), 'params': {}, 'train_x' : energy_in_test, 'train_y': energy_in_labels},\n",
    "    {'model': cumlForestReg(), 'params': {}, 'train_x' : energy_in_test, 'train_y': energy_in_labels},\n",
    "    #{'model': ExtraTreesRegressor(), 'params': {}, 'train_x' : energy_in_test, 'train_y': energy_in_labels},\n",
    "    #{'model': RandomForestRegressor(), 'params': {}, 'train_x' : energy_in_test, 'train_y': energy_in_labels},\n",
    "    #{'model': xgboost.XGBRegressor(), 'params': {'eval_set':[(energy_val, labels_val)], 'verbose': False},\n",
    "    # 'train_x' : energy_train, 'train_y': labels_train},\n",
    "    #{'model': KNeighborsRegressor(), 'params': {}, 'train_x' : energy_in_test, 'train_y': energy_in_labels}\n",
    "]\n",
    "\n",
    "\n",
    "Test(regressors)"
   ]
  }
 ],
 "metadata": {
  "language_info": {
   "name": "python"
  }
 },
 "nbformat": 4,
 "nbformat_minor": 5
}
