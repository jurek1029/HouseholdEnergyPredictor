{
 "cells": [
  {
   "cell_type": "code",
   "execution_count": 135,
   "id": "b773aad7",
   "metadata": {},
   "outputs": [],
   "source": [
    "import pandas as pd\n",
    "import numpy as np\n",
    "import datetime\n",
    "import os\n",
    "\n",
    "import matplotlib.pyplot as plt\n",
    "\n",
    "from sklearn.model_selection import train_test_split\n",
    "from sklearn.impute import SimpleImputer\n",
    "from sklearn.base import BaseEstimator, TransformerMixin\n",
    "\n",
    "from sklearn.pipeline import Pipeline\n",
    "from sklearn.preprocessing import StandardScaler\n",
    "\n",
    "from sklearn.metrics import mean_squared_error\n",
    "from sklearn.model_selection import cross_val_score\n",
    "\n",
    "from sklearn.linear_model import LinearRegression\n",
    "from sklearn.linear_model import SGDRegressor\n",
    "from sklearn.linear_model import Ridge\n",
    "from sklearn.linear_model import Lasso\n",
    "from sklearn.linear_model import ElasticNet\n",
    "\n",
    "from sklearn.model_selection import GridSearchCV\n",
    "\n",
    "from sklearn.preprocessing import PolynomialFeatures\n",
    "\n",
    "import joblib\n",
    "\n",
    "%config Completer.use_jedi = False\n",
    "%matplotlib inline  "
   ]
  },
  {
   "cell_type": "code",
   "execution_count": 2,
   "id": "5464e883",
   "metadata": {},
   "outputs": [],
   "source": [
    "daily_data_path = \"Data/London/daily_dataset/daily_dataset/\"\n",
    "daily_weather_path = 'Data/London/weather_daily_darksky.csv'\n",
    "f_energy_all_name = \"energy_all.csv\"\n",
    "f_energy_clean_name = \"energy_clean\"\n",
    "f_energy_avg_name = \"energy_avg\"\n",
    "f_energy_avg_all_file = \"energy_avg_all.csv\"\n",
    "\n",
    "mode_path = \"Modes/\""
   ]
  },
  {
   "cell_type": "code",
   "execution_count": 55,
   "id": "6ac883fb",
   "metadata": {},
   "outputs": [],
   "source": [
    "dtypes_in = {'avg_energy':'float32', 'day': 'int8', 'month': 'int8', 'temperatureMax': 'float16'}\n",
    "energy_data = pd.read_csv(f_energy_avg_name+'.csv', dtype=dtypes_in)\n",
    "\n",
    "energy = energy_data.drop('avg_energy', axis=1)\n",
    "energy_labels = energy_data['avg_energy'].copy()"
   ]
  },
  {
   "cell_type": "code",
   "execution_count": 3,
   "id": "1309552d",
   "metadata": {},
   "outputs": [],
   "source": [
    "energy_data = pd.read_csv(f_energy_avg_all_file)\n",
    "\n",
    "energy = energy_data.drop(['avg_energy','energy_sum','date'], axis=1)\n",
    "energy_labels = energy_data['avg_energy'].copy()"
   ]
  },
  {
   "cell_type": "code",
   "execution_count": 4,
   "id": "def76561",
   "metadata": {},
   "outputs": [],
   "source": [
    "class AttributesAdder(BaseEstimator, TransformerMixin):\n",
    "    def __init__(self, add_house_income_cat=True): # no *args or **kargs\n",
    "        self.add_house_income_cat = add_house_income_cat\n",
    "    def fit(self, X, y=None):\n",
    "        return self  # nothing else to do\n",
    "    def transform(self, X):\n",
    "        return X"
   ]
  },
  {
   "cell_type": "code",
   "execution_count": 5,
   "id": "c9967eea",
   "metadata": {},
   "outputs": [],
   "source": [
    "def display_scores(scores):\n",
    "    print(\"Scores:\", scores)\n",
    "    print(\"Mean:\", scores.mean())\n",
    "    print(\"Standard deviation:\", scores.std())"
   ]
  },
  {
   "cell_type": "code",
   "execution_count": 56,
   "id": "ace7c816",
   "metadata": {},
   "outputs": [],
   "source": [
    "pipeline = Pipeline([\n",
    "        ('imputer', SimpleImputer(strategy=\"median\")),\n",
    "        ('attribs_adder', AttributesAdder()),\n",
    "        ('std_scaler', StandardScaler()),\n",
    "    ])\n",
    "\n",
    "energy_tr = pipeline.fit_transform(energy)"
   ]
  },
  {
   "cell_type": "markdown",
   "id": "1e29b0f2",
   "metadata": {},
   "source": [
    "# Testing models"
   ]
  },
  {
   "cell_type": "code",
   "execution_count": 133,
   "id": "a85fae07",
   "metadata": {},
   "outputs": [
    {
     "name": "stdout",
     "output_type": "stream",
     "text": [
      "Scores: [1.58406821 1.17030978 1.02256062 0.70777959 0.96801592 0.58796843\n",
      " 1.20534667 0.93116969 0.55262087 1.48791163]\n",
      "Mean: 1.0217751399227326\n",
      "Standard deviation: 0.33274689851535155\n"
     ]
    }
   ],
   "source": [
    "lin_reg = LinearRegression()\n",
    "scores = cross_val_score(lin_reg, energy_tr, energy_labels, scoring=\"neg_mean_squared_error\", cv=10)\n",
    "lin_rmse_scores = np.sqrt(-scores)\n",
    "display_scores(lin_rmse_scores)"
   ]
  },
  {
   "cell_type": "code",
   "execution_count": 132,
   "id": "f0264382",
   "metadata": {},
   "outputs": [
    {
     "name": "stdout",
     "output_type": "stream",
     "text": [
      "Scores: [1.58430113 1.16210123 1.02798446 0.72995153 0.98518538 0.58682618\n",
      " 1.17903091 0.89409437 0.53998211 1.50122794]\n",
      "Mean: 1.0190685240374258\n",
      "Standard deviation: 0.33388679136299965\n"
     ]
    }
   ],
   "source": [
    "sgd_reg = SGDRegressor(max_iter=100000, tol=1e-3, penalty=None, eta0=0.1, early_stopping=True , n_iter_no_change=500)\n",
    "scores = cross_val_score(sgd_reg, energy_tr, energy_labels, scoring=\"neg_mean_squared_error\", cv=10)\n",
    "sgd_rmse_scores = np.sqrt(-scores)\n",
    "display_scores(sgd_rmse_scores)"
   ]
  },
  {
   "cell_type": "code",
   "execution_count": 131,
   "id": "84ef7bb5",
   "metadata": {},
   "outputs": [
    {
     "name": "stdout",
     "output_type": "stream",
     "text": [
      "Scores: [1.58445468 1.16942383 1.02343299 0.70849391 0.97106838 0.58759688\n",
      " 1.20450552 0.92801152 0.5517625  1.48786382]\n",
      "Mean: 1.021661404988929\n",
      "Standard deviation: 0.33286192868397824\n"
     ]
    }
   ],
   "source": [
    "ridge_reg = Ridge(alpha=1.0,fit_intercept=True,normalize=False,copy_X=True,max_iter=None,tol=0.001,solver='auto',random_state=None)\n",
    "scores = cross_val_score(ridge_reg, energy_tr, energy_labels, scoring=\"neg_mean_squared_error\", cv=10)\n",
    "ridge_rmse_scores = np.sqrt(-scores)\n",
    "display_scores(ridge_rmse_scores)"
   ]
  },
  {
   "cell_type": "code",
   "execution_count": 134,
   "id": "527cc7c7",
   "metadata": {},
   "outputs": [
    {
     "name": "stdout",
     "output_type": "stream",
     "text": [
      "Scores: [2.44980533 1.23348184 1.58990887 1.38786823 1.27259931 1.81367139\n",
      " 1.38096029 1.87173692 0.78318593 1.49839123]\n",
      "Mean: 1.5281609344201879\n",
      "Standard deviation: 0.4245201357548615\n"
     ]
    }
   ],
   "source": [
    "lasso_reg = Lasso()\n",
    "scores = cross_val_score(lasso_reg, energy_tr, energy_labels, scoring=\"neg_mean_squared_error\", cv=10)\n",
    "lasso_rmse_scores = np.sqrt(-scores)\n",
    "display_scores(lasso_rmse_scores)"
   ]
  },
  {
   "cell_type": "code",
   "execution_count": 136,
   "id": "8fd403f1",
   "metadata": {},
   "outputs": [
    {
     "name": "stdout",
     "output_type": "stream",
     "text": [
      "Scores: [1.67968347 1.17279994 1.0331664  0.71886383 0.988555   0.62019574\n",
      " 1.20648126 0.83387765 0.55388513 1.45672759]\n",
      "Mean: 1.0264236004235308\n",
      "Standard deviation: 0.34456014218742886\n"
     ]
    }
   ],
   "source": [
    "elastic_net = ElasticNet(alpha=0.1, l1_ratio=0.5)\n",
    "scores = cross_val_score(elastic_net, energy_tr, energy_labels, scoring=\"neg_mean_squared_error\", cv=10)\n",
    "elastic_net_rmse_scores = np.sqrt(-scores)\n",
    "display_scores(elastic_net_rmse_scores)"
   ]
  },
  {
   "cell_type": "code",
   "execution_count": 76,
   "id": "c7283ec7",
   "metadata": {
    "collapsed": true
   },
   "outputs": [
    {
     "data": {
      "text/plain": [
       "dict_keys(['alpha', 'average', 'early_stopping', 'epsilon', 'eta0', 'fit_intercept', 'l1_ratio', 'learning_rate', 'loss', 'max_iter', 'n_iter_no_change', 'penalty', 'power_t', 'random_state', 'shuffle', 'tol', 'validation_fraction', 'verbose', 'warm_start'])"
      ]
     },
     "execution_count": 76,
     "metadata": {},
     "output_type": "execute_result"
    }
   ],
   "source": [
    "sgd_reg.get_params().keys()"
   ]
  },
  {
   "cell_type": "code",
   "execution_count": 79,
   "id": "e32c8c75",
   "metadata": {},
   "outputs": [
    {
     "data": {
      "text/plain": [
       "GridSearchCV(cv=5,\n",
       "             estimator=SGDRegressor(early_stopping=True, max_iter=100000.0),\n",
       "             n_jobs=-1,\n",
       "             param_grid={'eta0': [0.2, 0.1, 0.05, 0.01, 0.005],\n",
       "                         'n_iter_no_change': [10, 100, 500, 1000],\n",
       "                         'penalty': [None, 'l1', 'l2'],\n",
       "                         'tol': [0.01, 0.001, 0.0001]},\n",
       "             return_train_score=True, scoring='neg_mean_squared_error')"
      ]
     },
     "execution_count": 79,
     "metadata": {},
     "output_type": "execute_result"
    }
   ],
   "source": [
    "param_grid = {\n",
    "     'tol': [1e-2,1e-3,1e-4],\n",
    "     'eta0': [0.2, 0.1, 0.05, 0.01, 0.005],\n",
    "     'n_iter_no_change': [10,100,500,1000],\n",
    "     'penalty': [None, 'l1', 'l2']\n",
    "}\n",
    "  \n",
    "sgd_reg = SGDRegressor(max_iter=1e5,early_stopping=True)\n",
    "\n",
    "grid_search_sgd = GridSearchCV(sgd_reg, param_grid, cv=5, scoring='neg_mean_squared_error', return_train_score=True, n_jobs=-1)\n",
    "grid_search_sgd.fit(energy_tr, energy_labels)"
   ]
  },
  {
   "cell_type": "code",
   "execution_count": 101,
   "id": "46a75dfa",
   "metadata": {},
   "outputs": [
    {
     "name": "stdout",
     "output_type": "stream",
     "text": [
      "Best Score: 1.0523780409327754\n",
      "Best Hyperparameters: {'eta0': 0.2, 'n_iter_no_change': 10, 'penalty': 'l2', 'tol': 0.01}\n"
     ]
    }
   ],
   "source": [
    "print('Best Score: %s' % np.sqrt(-grid_search_sgd.best_score_))\n",
    "print('Best Hyperparameters: %s' % grid_search_sgd.best_params_)"
   ]
  },
  {
   "cell_type": "code",
   "execution_count": 103,
   "id": "6c628931",
   "metadata": {},
   "outputs": [
    {
     "data": {
      "text/plain": [
       "[(nan, {'eta0': 0.2, 'n_iter_no_change': 10, 'penalty': None, 'tol': 0.01}),\n",
       " (nan, {'eta0': 0.2, 'n_iter_no_change': 10, 'penalty': None, 'tol': 0.001}),\n",
       " (nan, {'eta0': 0.2, 'n_iter_no_change': 10, 'penalty': None, 'tol': 0.0001}),\n",
       " (nan, {'eta0': 0.2, 'n_iter_no_change': 10, 'penalty': 'l1', 'tol': 0.01}),\n",
       " (nan, {'eta0': 0.2, 'n_iter_no_change': 10, 'penalty': 'l1', 'tol': 0.001}),\n",
       " (nan, {'eta0': 0.2, 'n_iter_no_change': 10, 'penalty': 'l1', 'tol': 0.0001}),\n",
       " (nan, {'eta0': 0.2, 'n_iter_no_change': 10, 'penalty': 'l2', 'tol': 0.01}),\n",
       " (nan, {'eta0': 0.2, 'n_iter_no_change': 10, 'penalty': 'l2', 'tol': 0.001}),\n",
       " (nan, {'eta0': 0.2, 'n_iter_no_change': 10, 'penalty': 'l2', 'tol': 0.0001}),\n",
       " (nan, {'eta0': 0.2, 'n_iter_no_change': 100, 'penalty': None, 'tol': 0.01}),\n",
       " (nan, {'eta0': 0.2, 'n_iter_no_change': 100, 'penalty': None, 'tol': 0.001}),\n",
       " (nan, {'eta0': 0.2, 'n_iter_no_change': 100, 'penalty': None, 'tol': 0.0001}),\n",
       " (nan, {'eta0': 0.2, 'n_iter_no_change': 100, 'penalty': 'l1', 'tol': 0.01}),\n",
       " (nan, {'eta0': 0.2, 'n_iter_no_change': 100, 'penalty': 'l1', 'tol': 0.001}),\n",
       " (nan, {'eta0': 0.2, 'n_iter_no_change': 100, 'penalty': 'l1', 'tol': 0.0001}),\n",
       " (nan, {'eta0': 0.2, 'n_iter_no_change': 100, 'penalty': 'l2', 'tol': 0.01}),\n",
       " (nan, {'eta0': 0.2, 'n_iter_no_change': 100, 'penalty': 'l2', 'tol': 0.001}),\n",
       " (nan, {'eta0': 0.2, 'n_iter_no_change': 100, 'penalty': 'l2', 'tol': 0.0001}),\n",
       " (nan, {'eta0': 0.2, 'n_iter_no_change': 500, 'penalty': None, 'tol': 0.01}),\n",
       " (nan, {'eta0': 0.2, 'n_iter_no_change': 500, 'penalty': None, 'tol': 0.001}),\n",
       " (nan, {'eta0': 0.2, 'n_iter_no_change': 500, 'penalty': None, 'tol': 0.0001}),\n",
       " (nan, {'eta0': 0.2, 'n_iter_no_change': 500, 'penalty': 'l1', 'tol': 0.01}),\n",
       " (nan, {'eta0': 0.2, 'n_iter_no_change': 500, 'penalty': 'l1', 'tol': 0.001}),\n",
       " (nan, {'eta0': 0.2, 'n_iter_no_change': 500, 'penalty': 'l1', 'tol': 0.0001}),\n",
       " (nan, {'eta0': 0.2, 'n_iter_no_change': 500, 'penalty': 'l2', 'tol': 0.01}),\n",
       " (nan, {'eta0': 0.2, 'n_iter_no_change': 500, 'penalty': 'l2', 'tol': 0.001}),\n",
       " (nan, {'eta0': 0.2, 'n_iter_no_change': 500, 'penalty': 'l2', 'tol': 0.0001}),\n",
       " (nan, {'eta0': 0.2, 'n_iter_no_change': 1000, 'penalty': None, 'tol': 0.01}),\n",
       " (nan, {'eta0': 0.2, 'n_iter_no_change': 1000, 'penalty': None, 'tol': 0.001}),\n",
       " (nan,\n",
       "  {'eta0': 0.2, 'n_iter_no_change': 1000, 'penalty': None, 'tol': 0.0001}),\n",
       " (nan, {'eta0': 0.2, 'n_iter_no_change': 1000, 'penalty': 'l1', 'tol': 0.01}),\n",
       " (nan, {'eta0': 0.2, 'n_iter_no_change': 1000, 'penalty': 'l1', 'tol': 0.001}),\n",
       " (nan,\n",
       "  {'eta0': 0.2, 'n_iter_no_change': 1000, 'penalty': 'l1', 'tol': 0.0001}),\n",
       " (nan, {'eta0': 0.2, 'n_iter_no_change': 1000, 'penalty': 'l2', 'tol': 0.01}),\n",
       " (nan, {'eta0': 0.2, 'n_iter_no_change': 1000, 'penalty': 'l2', 'tol': 0.001}),\n",
       " (nan,\n",
       "  {'eta0': 0.2, 'n_iter_no_change': 1000, 'penalty': 'l2', 'tol': 0.0001}),\n",
       " (nan, {'eta0': 0.1, 'n_iter_no_change': 10, 'penalty': None, 'tol': 0.01}),\n",
       " (nan, {'eta0': 0.1, 'n_iter_no_change': 10, 'penalty': None, 'tol': 0.001}),\n",
       " (nan, {'eta0': 0.1, 'n_iter_no_change': 10, 'penalty': None, 'tol': 0.0001}),\n",
       " (nan, {'eta0': 0.1, 'n_iter_no_change': 10, 'penalty': 'l1', 'tol': 0.01}),\n",
       " (nan, {'eta0': 0.1, 'n_iter_no_change': 10, 'penalty': 'l1', 'tol': 0.001}),\n",
       " (nan, {'eta0': 0.1, 'n_iter_no_change': 10, 'penalty': 'l1', 'tol': 0.0001}),\n",
       " (nan, {'eta0': 0.1, 'n_iter_no_change': 10, 'penalty': 'l2', 'tol': 0.01}),\n",
       " (nan, {'eta0': 0.1, 'n_iter_no_change': 10, 'penalty': 'l2', 'tol': 0.001}),\n",
       " (nan, {'eta0': 0.1, 'n_iter_no_change': 10, 'penalty': 'l2', 'tol': 0.0001}),\n",
       " (nan, {'eta0': 0.1, 'n_iter_no_change': 100, 'penalty': None, 'tol': 0.01}),\n",
       " (nan, {'eta0': 0.1, 'n_iter_no_change': 100, 'penalty': None, 'tol': 0.001}),\n",
       " (nan, {'eta0': 0.1, 'n_iter_no_change': 100, 'penalty': None, 'tol': 0.0001}),\n",
       " (nan, {'eta0': 0.1, 'n_iter_no_change': 100, 'penalty': 'l1', 'tol': 0.01}),\n",
       " (nan, {'eta0': 0.1, 'n_iter_no_change': 100, 'penalty': 'l1', 'tol': 0.001}),\n",
       " (nan, {'eta0': 0.1, 'n_iter_no_change': 100, 'penalty': 'l1', 'tol': 0.0001}),\n",
       " (nan, {'eta0': 0.1, 'n_iter_no_change': 100, 'penalty': 'l2', 'tol': 0.01}),\n",
       " (nan, {'eta0': 0.1, 'n_iter_no_change': 100, 'penalty': 'l2', 'tol': 0.001}),\n",
       " (nan, {'eta0': 0.1, 'n_iter_no_change': 100, 'penalty': 'l2', 'tol': 0.0001}),\n",
       " (nan, {'eta0': 0.1, 'n_iter_no_change': 500, 'penalty': None, 'tol': 0.01}),\n",
       " (nan, {'eta0': 0.1, 'n_iter_no_change': 500, 'penalty': None, 'tol': 0.001}),\n",
       " (nan, {'eta0': 0.1, 'n_iter_no_change': 500, 'penalty': None, 'tol': 0.0001}),\n",
       " (nan, {'eta0': 0.1, 'n_iter_no_change': 500, 'penalty': 'l1', 'tol': 0.01}),\n",
       " (nan, {'eta0': 0.1, 'n_iter_no_change': 500, 'penalty': 'l1', 'tol': 0.001}),\n",
       " (nan, {'eta0': 0.1, 'n_iter_no_change': 500, 'penalty': 'l1', 'tol': 0.0001}),\n",
       " (nan, {'eta0': 0.1, 'n_iter_no_change': 500, 'penalty': 'l2', 'tol': 0.01}),\n",
       " (nan, {'eta0': 0.1, 'n_iter_no_change': 500, 'penalty': 'l2', 'tol': 0.001}),\n",
       " (nan, {'eta0': 0.1, 'n_iter_no_change': 500, 'penalty': 'l2', 'tol': 0.0001}),\n",
       " (nan, {'eta0': 0.1, 'n_iter_no_change': 1000, 'penalty': None, 'tol': 0.01}),\n",
       " (nan, {'eta0': 0.1, 'n_iter_no_change': 1000, 'penalty': None, 'tol': 0.001}),\n",
       " (nan,\n",
       "  {'eta0': 0.1, 'n_iter_no_change': 1000, 'penalty': None, 'tol': 0.0001}),\n",
       " (nan, {'eta0': 0.1, 'n_iter_no_change': 1000, 'penalty': 'l1', 'tol': 0.01}),\n",
       " (nan, {'eta0': 0.1, 'n_iter_no_change': 1000, 'penalty': 'l1', 'tol': 0.001}),\n",
       " (nan,\n",
       "  {'eta0': 0.1, 'n_iter_no_change': 1000, 'penalty': 'l1', 'tol': 0.0001}),\n",
       " (nan, {'eta0': 0.1, 'n_iter_no_change': 1000, 'penalty': 'l2', 'tol': 0.01}),\n",
       " (nan, {'eta0': 0.1, 'n_iter_no_change': 1000, 'penalty': 'l2', 'tol': 0.001}),\n",
       " (nan,\n",
       "  {'eta0': 0.1, 'n_iter_no_change': 1000, 'penalty': 'l2', 'tol': 0.0001}),\n",
       " (nan, {'eta0': 0.05, 'n_iter_no_change': 10, 'penalty': None, 'tol': 0.01}),\n",
       " (nan, {'eta0': 0.05, 'n_iter_no_change': 10, 'penalty': None, 'tol': 0.001}),\n",
       " (nan, {'eta0': 0.05, 'n_iter_no_change': 10, 'penalty': None, 'tol': 0.0001}),\n",
       " (nan, {'eta0': 0.05, 'n_iter_no_change': 10, 'penalty': 'l1', 'tol': 0.01}),\n",
       " (nan, {'eta0': 0.05, 'n_iter_no_change': 10, 'penalty': 'l1', 'tol': 0.001}),\n",
       " (nan, {'eta0': 0.05, 'n_iter_no_change': 10, 'penalty': 'l1', 'tol': 0.0001}),\n",
       " (nan, {'eta0': 0.05, 'n_iter_no_change': 10, 'penalty': 'l2', 'tol': 0.01}),\n",
       " (nan, {'eta0': 0.05, 'n_iter_no_change': 10, 'penalty': 'l2', 'tol': 0.001}),\n",
       " (nan, {'eta0': 0.05, 'n_iter_no_change': 10, 'penalty': 'l2', 'tol': 0.0001}),\n",
       " (nan, {'eta0': 0.05, 'n_iter_no_change': 100, 'penalty': None, 'tol': 0.01}),\n",
       " (nan, {'eta0': 0.05, 'n_iter_no_change': 100, 'penalty': None, 'tol': 0.001}),\n",
       " (nan,\n",
       "  {'eta0': 0.05, 'n_iter_no_change': 100, 'penalty': None, 'tol': 0.0001}),\n",
       " (nan, {'eta0': 0.05, 'n_iter_no_change': 100, 'penalty': 'l1', 'tol': 0.01}),\n",
       " (nan, {'eta0': 0.05, 'n_iter_no_change': 100, 'penalty': 'l1', 'tol': 0.001}),\n",
       " (nan,\n",
       "  {'eta0': 0.05, 'n_iter_no_change': 100, 'penalty': 'l1', 'tol': 0.0001}),\n",
       " (nan, {'eta0': 0.05, 'n_iter_no_change': 100, 'penalty': 'l2', 'tol': 0.01}),\n",
       " (nan, {'eta0': 0.05, 'n_iter_no_change': 100, 'penalty': 'l2', 'tol': 0.001}),\n",
       " (nan,\n",
       "  {'eta0': 0.05, 'n_iter_no_change': 100, 'penalty': 'l2', 'tol': 0.0001}),\n",
       " (nan, {'eta0': 0.05, 'n_iter_no_change': 500, 'penalty': None, 'tol': 0.01}),\n",
       " (nan, {'eta0': 0.05, 'n_iter_no_change': 500, 'penalty': None, 'tol': 0.001}),\n",
       " (nan,\n",
       "  {'eta0': 0.05, 'n_iter_no_change': 500, 'penalty': None, 'tol': 0.0001}),\n",
       " (nan, {'eta0': 0.05, 'n_iter_no_change': 500, 'penalty': 'l1', 'tol': 0.01}),\n",
       " (nan, {'eta0': 0.05, 'n_iter_no_change': 500, 'penalty': 'l1', 'tol': 0.001}),\n",
       " (nan,\n",
       "  {'eta0': 0.05, 'n_iter_no_change': 500, 'penalty': 'l1', 'tol': 0.0001}),\n",
       " (nan, {'eta0': 0.05, 'n_iter_no_change': 500, 'penalty': 'l2', 'tol': 0.01}),\n",
       " (nan, {'eta0': 0.05, 'n_iter_no_change': 500, 'penalty': 'l2', 'tol': 0.001}),\n",
       " (nan,\n",
       "  {'eta0': 0.05, 'n_iter_no_change': 500, 'penalty': 'l2', 'tol': 0.0001}),\n",
       " (nan, {'eta0': 0.05, 'n_iter_no_change': 1000, 'penalty': None, 'tol': 0.01}),\n",
       " (nan,\n",
       "  {'eta0': 0.05, 'n_iter_no_change': 1000, 'penalty': None, 'tol': 0.001}),\n",
       " (nan,\n",
       "  {'eta0': 0.05, 'n_iter_no_change': 1000, 'penalty': None, 'tol': 0.0001}),\n",
       " (nan, {'eta0': 0.05, 'n_iter_no_change': 1000, 'penalty': 'l1', 'tol': 0.01}),\n",
       " (nan,\n",
       "  {'eta0': 0.05, 'n_iter_no_change': 1000, 'penalty': 'l1', 'tol': 0.001}),\n",
       " (nan,\n",
       "  {'eta0': 0.05, 'n_iter_no_change': 1000, 'penalty': 'l1', 'tol': 0.0001}),\n",
       " (nan, {'eta0': 0.05, 'n_iter_no_change': 1000, 'penalty': 'l2', 'tol': 0.01}),\n",
       " (nan,\n",
       "  {'eta0': 0.05, 'n_iter_no_change': 1000, 'penalty': 'l2', 'tol': 0.001}),\n",
       " (nan,\n",
       "  {'eta0': 0.05, 'n_iter_no_change': 1000, 'penalty': 'l2', 'tol': 0.0001}),\n",
       " (nan, {'eta0': 0.01, 'n_iter_no_change': 10, 'penalty': None, 'tol': 0.01}),\n",
       " (nan, {'eta0': 0.01, 'n_iter_no_change': 10, 'penalty': None, 'tol': 0.001}),\n",
       " (nan, {'eta0': 0.01, 'n_iter_no_change': 10, 'penalty': None, 'tol': 0.0001}),\n",
       " (nan, {'eta0': 0.01, 'n_iter_no_change': 10, 'penalty': 'l1', 'tol': 0.01}),\n",
       " (nan, {'eta0': 0.01, 'n_iter_no_change': 10, 'penalty': 'l1', 'tol': 0.001}),\n",
       " (nan, {'eta0': 0.01, 'n_iter_no_change': 10, 'penalty': 'l1', 'tol': 0.0001}),\n",
       " (nan, {'eta0': 0.01, 'n_iter_no_change': 10, 'penalty': 'l2', 'tol': 0.01}),\n",
       " (nan, {'eta0': 0.01, 'n_iter_no_change': 10, 'penalty': 'l2', 'tol': 0.001}),\n",
       " (nan, {'eta0': 0.01, 'n_iter_no_change': 10, 'penalty': 'l2', 'tol': 0.0001}),\n",
       " (nan, {'eta0': 0.01, 'n_iter_no_change': 100, 'penalty': None, 'tol': 0.01}),\n",
       " (nan, {'eta0': 0.01, 'n_iter_no_change': 100, 'penalty': None, 'tol': 0.001}),\n",
       " (nan,\n",
       "  {'eta0': 0.01, 'n_iter_no_change': 100, 'penalty': None, 'tol': 0.0001}),\n",
       " (nan, {'eta0': 0.01, 'n_iter_no_change': 100, 'penalty': 'l1', 'tol': 0.01}),\n",
       " (nan, {'eta0': 0.01, 'n_iter_no_change': 100, 'penalty': 'l1', 'tol': 0.001}),\n",
       " (nan,\n",
       "  {'eta0': 0.01, 'n_iter_no_change': 100, 'penalty': 'l1', 'tol': 0.0001}),\n",
       " (nan, {'eta0': 0.01, 'n_iter_no_change': 100, 'penalty': 'l2', 'tol': 0.01}),\n",
       " (nan, {'eta0': 0.01, 'n_iter_no_change': 100, 'penalty': 'l2', 'tol': 0.001}),\n",
       " (nan,\n",
       "  {'eta0': 0.01, 'n_iter_no_change': 100, 'penalty': 'l2', 'tol': 0.0001}),\n",
       " (nan, {'eta0': 0.01, 'n_iter_no_change': 500, 'penalty': None, 'tol': 0.01}),\n",
       " (nan, {'eta0': 0.01, 'n_iter_no_change': 500, 'penalty': None, 'tol': 0.001}),\n",
       " (nan,\n",
       "  {'eta0': 0.01, 'n_iter_no_change': 500, 'penalty': None, 'tol': 0.0001}),\n",
       " (nan, {'eta0': 0.01, 'n_iter_no_change': 500, 'penalty': 'l1', 'tol': 0.01}),\n",
       " (nan, {'eta0': 0.01, 'n_iter_no_change': 500, 'penalty': 'l1', 'tol': 0.001}),\n",
       " (nan,\n",
       "  {'eta0': 0.01, 'n_iter_no_change': 500, 'penalty': 'l1', 'tol': 0.0001}),\n",
       " (nan, {'eta0': 0.01, 'n_iter_no_change': 500, 'penalty': 'l2', 'tol': 0.01}),\n",
       " (nan, {'eta0': 0.01, 'n_iter_no_change': 500, 'penalty': 'l2', 'tol': 0.001}),\n",
       " (nan,\n",
       "  {'eta0': 0.01, 'n_iter_no_change': 500, 'penalty': 'l2', 'tol': 0.0001}),\n",
       " (nan, {'eta0': 0.01, 'n_iter_no_change': 1000, 'penalty': None, 'tol': 0.01}),\n",
       " (nan,\n",
       "  {'eta0': 0.01, 'n_iter_no_change': 1000, 'penalty': None, 'tol': 0.001}),\n",
       " (nan,\n",
       "  {'eta0': 0.01, 'n_iter_no_change': 1000, 'penalty': None, 'tol': 0.0001}),\n",
       " (nan, {'eta0': 0.01, 'n_iter_no_change': 1000, 'penalty': 'l1', 'tol': 0.01}),\n",
       " (nan,\n",
       "  {'eta0': 0.01, 'n_iter_no_change': 1000, 'penalty': 'l1', 'tol': 0.001}),\n",
       " (nan,\n",
       "  {'eta0': 0.01, 'n_iter_no_change': 1000, 'penalty': 'l1', 'tol': 0.0001}),\n",
       " (nan, {'eta0': 0.01, 'n_iter_no_change': 1000, 'penalty': 'l2', 'tol': 0.01}),\n",
       " (nan,\n",
       "  {'eta0': 0.01, 'n_iter_no_change': 1000, 'penalty': 'l2', 'tol': 0.001}),\n",
       " (nan,\n",
       "  {'eta0': 0.01, 'n_iter_no_change': 1000, 'penalty': 'l2', 'tol': 0.0001}),\n",
       " (nan, {'eta0': 0.005, 'n_iter_no_change': 10, 'penalty': None, 'tol': 0.01}),\n",
       " (nan, {'eta0': 0.005, 'n_iter_no_change': 10, 'penalty': None, 'tol': 0.001}),\n",
       " (nan,\n",
       "  {'eta0': 0.005, 'n_iter_no_change': 10, 'penalty': None, 'tol': 0.0001}),\n",
       " (nan, {'eta0': 0.005, 'n_iter_no_change': 10, 'penalty': 'l1', 'tol': 0.01}),\n",
       " (nan, {'eta0': 0.005, 'n_iter_no_change': 10, 'penalty': 'l1', 'tol': 0.001}),\n",
       " (nan,\n",
       "  {'eta0': 0.005, 'n_iter_no_change': 10, 'penalty': 'l1', 'tol': 0.0001}),\n",
       " (nan, {'eta0': 0.005, 'n_iter_no_change': 10, 'penalty': 'l2', 'tol': 0.01}),\n",
       " (nan, {'eta0': 0.005, 'n_iter_no_change': 10, 'penalty': 'l2', 'tol': 0.001}),\n",
       " (nan,\n",
       "  {'eta0': 0.005, 'n_iter_no_change': 10, 'penalty': 'l2', 'tol': 0.0001}),\n",
       " (nan, {'eta0': 0.005, 'n_iter_no_change': 100, 'penalty': None, 'tol': 0.01}),\n",
       " (nan,\n",
       "  {'eta0': 0.005, 'n_iter_no_change': 100, 'penalty': None, 'tol': 0.001}),\n",
       " (nan,\n",
       "  {'eta0': 0.005, 'n_iter_no_change': 100, 'penalty': None, 'tol': 0.0001}),\n",
       " (nan, {'eta0': 0.005, 'n_iter_no_change': 100, 'penalty': 'l1', 'tol': 0.01}),\n",
       " (nan,\n",
       "  {'eta0': 0.005, 'n_iter_no_change': 100, 'penalty': 'l1', 'tol': 0.001}),\n",
       " (nan,\n",
       "  {'eta0': 0.005, 'n_iter_no_change': 100, 'penalty': 'l1', 'tol': 0.0001}),\n",
       " (nan, {'eta0': 0.005, 'n_iter_no_change': 100, 'penalty': 'l2', 'tol': 0.01}),\n",
       " (nan,\n",
       "  {'eta0': 0.005, 'n_iter_no_change': 100, 'penalty': 'l2', 'tol': 0.001}),\n",
       " (nan,\n",
       "  {'eta0': 0.005, 'n_iter_no_change': 100, 'penalty': 'l2', 'tol': 0.0001}),\n",
       " (nan, {'eta0': 0.005, 'n_iter_no_change': 500, 'penalty': None, 'tol': 0.01}),\n",
       " (nan,\n",
       "  {'eta0': 0.005, 'n_iter_no_change': 500, 'penalty': None, 'tol': 0.001}),\n",
       " (nan,\n",
       "  {'eta0': 0.005, 'n_iter_no_change': 500, 'penalty': None, 'tol': 0.0001}),\n",
       " (nan, {'eta0': 0.005, 'n_iter_no_change': 500, 'penalty': 'l1', 'tol': 0.01}),\n",
       " (nan,\n",
       "  {'eta0': 0.005, 'n_iter_no_change': 500, 'penalty': 'l1', 'tol': 0.001}),\n",
       " (nan,\n",
       "  {'eta0': 0.005, 'n_iter_no_change': 500, 'penalty': 'l1', 'tol': 0.0001}),\n",
       " (nan, {'eta0': 0.005, 'n_iter_no_change': 500, 'penalty': 'l2', 'tol': 0.01}),\n",
       " (nan,\n",
       "  {'eta0': 0.005, 'n_iter_no_change': 500, 'penalty': 'l2', 'tol': 0.001}),\n",
       " (nan,\n",
       "  {'eta0': 0.005, 'n_iter_no_change': 500, 'penalty': 'l2', 'tol': 0.0001}),\n",
       " (nan,\n",
       "  {'eta0': 0.005, 'n_iter_no_change': 1000, 'penalty': None, 'tol': 0.01}),\n",
       " (nan,\n",
       "  {'eta0': 0.005, 'n_iter_no_change': 1000, 'penalty': None, 'tol': 0.001}),\n",
       " (nan,\n",
       "  {'eta0': 0.005, 'n_iter_no_change': 1000, 'penalty': None, 'tol': 0.0001}),\n",
       " (nan,\n",
       "  {'eta0': 0.005, 'n_iter_no_change': 1000, 'penalty': 'l1', 'tol': 0.01}),\n",
       " (nan,\n",
       "  {'eta0': 0.005, 'n_iter_no_change': 1000, 'penalty': 'l1', 'tol': 0.001}),\n",
       " (nan,\n",
       "  {'eta0': 0.005, 'n_iter_no_change': 1000, 'penalty': 'l1', 'tol': 0.0001}),\n",
       " (nan,\n",
       "  {'eta0': 0.005, 'n_iter_no_change': 1000, 'penalty': 'l2', 'tol': 0.01}),\n",
       " (nan,\n",
       "  {'eta0': 0.005, 'n_iter_no_change': 1000, 'penalty': 'l2', 'tol': 0.001}),\n",
       " (nan,\n",
       "  {'eta0': 0.005, 'n_iter_no_change': 1000, 'penalty': 'l2', 'tol': 0.0001})]"
      ]
     },
     "execution_count": 103,
     "metadata": {},
     "output_type": "execute_result"
    }
   ],
   "source": [
    "cvres = grid_search_sgd.cv_results_\n",
    "#cvres[\"mean_test_score\"] = np.sqrt(cvres[\"mean_test_score\"])\n",
    "\n",
    "arr=sorted(zip(cvres[\"mean_test_score\"], cvres[\"params\"]), key=lambda x: x[0])\n",
    "arr\n"
   ]
  },
  {
   "cell_type": "code",
   "execution_count": 70,
   "id": "9156dadd",
   "metadata": {},
   "outputs": [
    {
     "data": {
      "text/plain": [
       "GridSearchCV(cv=5, estimator=Ridge(), n_jobs=-1,\n",
       "             param_grid={'alpha': [1e-05, 0.0001, 0.001, 0.01, 0.1, 1, 10, 100],\n",
       "                         'fit_intercept': [True, False],\n",
       "                         'normalize': [True, False],\n",
       "                         'solver': ['svd', 'cholesky', 'lsqr', 'sag']},\n",
       "             return_train_score=True, scoring='neg_mean_squared_error')"
      ]
     },
     "execution_count": 70,
     "metadata": {},
     "output_type": "execute_result"
    }
   ],
   "source": [
    "param_grid = {\n",
    "    'solver':['svd', 'cholesky', 'lsqr', 'sag'],\n",
    "    'alpha': [1e-5, 1e-4, 1e-3, 1e-2, 1e-1, 1, 10, 100],\n",
    "    'fit_intercept':[True, False],\n",
    "    'normalize':[True, False]\n",
    "}\n",
    "\n",
    "ridge_reg = Ridge(copy_X=True,max_iter=None,tol=0.001,random_state=None)\n",
    "\n",
    "grid_search_ridge = GridSearchCV(ridge_reg, param_grid, cv=5, scoring='neg_mean_squared_error', return_train_score=True, n_jobs=-1)\n",
    "grid_search_ridge.fit(energy_tr, energy_labels)"
   ]
  },
  {
   "cell_type": "code",
   "execution_count": 74,
   "id": "ba25003d",
   "metadata": {},
   "outputs": [
    {
     "name": "stdout",
     "output_type": "stream",
     "text": [
      "Best Score: 1.0948967964741332\n",
      "Best Hyperparameters: {'alpha': 0.001, 'fit_intercept': True, 'normalize': False, 'solver': 'sag'}\n"
     ]
    }
   ],
   "source": [
    "print('Best Score: %s' % np.sqrt(-grid_search_ridge.best_score_))\n",
    "print('Best Hyperparameters: %s' % grid_search_ridge.best_params_)"
   ]
  },
  {
   "cell_type": "markdown",
   "id": "87a2e691",
   "metadata": {},
   "source": [
    "# Polynomial"
   ]
  },
  {
   "cell_type": "code",
   "execution_count": 143,
   "id": "c0bf7666",
   "metadata": {},
   "outputs": [],
   "source": [
    "poly_features = PolynomialFeatures(degree=2, include_bias=False)\n",
    "energy_poly = poly_features.fit_transform(energy_tr)"
   ]
  },
  {
   "cell_type": "code",
   "execution_count": 145,
   "id": "46f446a8",
   "metadata": {},
   "outputs": [
    {
     "name": "stdout",
     "output_type": "stream",
     "text": [
      "Scores: [1.16485528 1.19532836 0.5104307  0.38627117 0.80472213 0.63674971\n",
      " 0.61189358 0.35946428 0.42945679 1.6719289 ]\n",
      "Mean: 0.7771100903496759\n",
      "Standard deviation: 0.41144590296943656\n"
     ]
    }
   ],
   "source": [
    "lin_reg = LinearRegression()\n",
    "scores = cross_val_score(lin_reg, energy_poly, energy_labels, scoring=\"neg_mean_squared_error\", cv=10)\n",
    "lin_rmse_scores = np.sqrt(-scores)\n",
    "display_scores(lin_rmse_scores)"
   ]
  },
  {
   "cell_type": "code",
   "execution_count": 59,
   "id": "9a106703",
   "metadata": {},
   "outputs": [
    {
     "name": "stdout",
     "output_type": "stream",
     "text": [
      "Scores: [1.27188517 1.19949987 0.53477156 0.39147488 0.80282682 0.61923395\n",
      " 0.59714114 0.40542909 0.41874184 1.59384503]\n",
      "Mean: 0.783484934930716\n",
      "Standard deviation: 0.40272288104591075\n"
     ]
    }
   ],
   "source": [
    "sgd_reg = SGDRegressor(max_iter=10000, tol=1e-3, penalty='l2', eta0=0.1, early_stopping=True , n_iter_no_change=300)\n",
    "scores = cross_val_score(sgd_reg, energy_poly, energy_labels, scoring=\"neg_mean_squared_error\", cv=10)\n",
    "sgd_rmse_scores = np.sqrt(-scores)\n",
    "display_scores(sgd_rmse_scores)"
   ]
  },
  {
   "cell_type": "code",
   "execution_count": 144,
   "id": "0e039d52",
   "metadata": {},
   "outputs": [
    {
     "name": "stdout",
     "output_type": "stream",
     "text": [
      "Scores: [1.1644505  1.19440449 0.51082894 0.38631916 0.80521953 0.63610081\n",
      " 0.61128051 0.36123454 0.42935372 1.67399922]\n",
      "Mean: 0.7773191426032275\n",
      "Standard deviation: 0.4116139277643332\n"
     ]
    }
   ],
   "source": [
    "ridge_reg = Ridge(alpha=0.001,fit_intercept=True,normalize=False,copy_X=True,max_iter=None,tol=0.001,solver='auto',random_state=None)\n",
    "scores = cross_val_score(ridge_reg, energy_poly, energy_labels, scoring=\"neg_mean_squared_error\", cv=10)\n",
    "sgd_rmse_scores = np.sqrt(-scores)\n",
    "display_scores(sgd_rmse_scores)"
   ]
  },
  {
   "cell_type": "code",
   "execution_count": 142,
   "id": "862eea1c",
   "metadata": {},
   "outputs": [
    {
     "name": "stdout",
     "output_type": "stream",
     "text": [
      "Scores: [2.3871998  1.29624157 1.80196017 1.58162771 1.40030141 1.60511922\n",
      " 1.62830576 1.83898466 1.0473273  1.5976387 ]\n",
      "Mean: 1.6184706287394455\n",
      "Standard deviation: 0.3395496746363513\n"
     ]
    }
   ],
   "source": [
    "lasso_reg = Lasso()\n",
    "scores = cross_val_score(lasso_reg, energy_poly, energy_labels, scoring=\"neg_mean_squared_error\", cv=10)\n",
    "lasso_rmse_scores = np.sqrt(-scores)\n",
    "display_scores(lasso_rmse_scores)"
   ]
  },
  {
   "cell_type": "code",
   "execution_count": 147,
   "id": "803594b1",
   "metadata": {},
   "outputs": [
    {
     "name": "stdout",
     "output_type": "stream",
     "text": [
      "Scores: [1.27328968 1.17726604 0.55911766 0.43878771 0.7873851  0.64072227\n",
      " 0.66082049 0.47711346 0.40945156 1.55933526]\n",
      "Mean: 0.7983289214264154\n",
      "Standard deviation: 0.378560005124695\n"
     ]
    }
   ],
   "source": [
    "elastic_net = ElasticNet(alpha=0.1, l1_ratio=0.2)\n",
    "scores = cross_val_score(elastic_net, energy_poly, energy_labels, scoring=\"neg_mean_squared_error\", cv=10)\n",
    "elastic_net_rmse_scores = np.sqrt(-scores)\n",
    "display_scores(elastic_net_rmse_scores)"
   ]
  },
  {
   "cell_type": "code",
   "execution_count": 126,
   "id": "fbf24081",
   "metadata": {},
   "outputs": [
    {
     "data": {
      "text/plain": [
       "GridSearchCV(cv=5, estimator=Ridge(), n_jobs=-1,\n",
       "             param_grid={'alpha': [1e-06, 1e-05, 0.0001, 0.001, 0.01, 0.1, 1,\n",
       "                                   10, 100],\n",
       "                         'fit_intercept': [True, False],\n",
       "                         'normalize': [True, False]},\n",
       "             return_train_score=True, scoring='neg_mean_squared_error')"
      ]
     },
     "execution_count": 126,
     "metadata": {},
     "output_type": "execute_result"
    }
   ],
   "source": [
    "param_grid = {\n",
    "    'alpha': [1e-6,1e-5, 1e-4, 1e-3, 1e-2, 1e-1, 1, 10, 100],\n",
    "    'fit_intercept':[True, False],\n",
    "    'normalize':[True, False]\n",
    "}\n",
    "\n",
    "ridge_reg = Ridge(solver='auto',copy_X=True,max_iter=None,tol=0.001,random_state=None,fit_intercept=True,normalize=False)\n",
    "\n",
    "grid_search_ridge = GridSearchCV(ridge_reg, param_grid, cv=5, scoring='neg_mean_squared_error', return_train_score=True, n_jobs=-1)\n",
    "grid_search_ridge.fit(energy_poly, energy_labels)"
   ]
  },
  {
   "cell_type": "code",
   "execution_count": 123,
   "id": "5c9d690f",
   "metadata": {},
   "outputs": [
    {
     "name": "stdout",
     "output_type": "stream",
     "text": [
      "Best Score: 0.89257741131697\n",
      "Best Hyperparameters: {'alpha': 1e-05, 'fit_intercept': True, 'normalize': False}\n"
     ]
    }
   ],
   "source": [
    "print('Best Score: %s' % np.sqrt(-grid_search_ridge.best_score_))\n",
    "print('Best Hyperparameters: %s' % grid_search_ridge.best_params_)"
   ]
  },
  {
   "cell_type": "code",
   "execution_count": null,
   "id": "6e421534",
   "metadata": {},
   "outputs": [],
   "source": []
  }
 ],
 "metadata": {
  "kernelspec": {
   "display_name": "Python 3 (ipykernel)",
   "language": "python",
   "name": "python3"
  },
  "language_info": {
   "codemirror_mode": {
    "name": "ipython",
    "version": 3
   },
   "file_extension": ".py",
   "mimetype": "text/x-python",
   "name": "python",
   "nbconvert_exporter": "python",
   "pygments_lexer": "ipython3",
   "version": "3.7.4"
  }
 },
 "nbformat": 4,
 "nbformat_minor": 5
}
