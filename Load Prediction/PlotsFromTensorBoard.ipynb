{
 "cells": [
  {
   "cell_type": "code",
   "execution_count": 1,
   "metadata": {},
   "outputs": [],
   "source": [
    "import os\n",
    "import matplotlib.pyplot as plt\n",
    "import sys\n",
    "import pandas as pd"
   ]
  },
  {
   "cell_type": "code",
   "execution_count": 8,
   "metadata": {},
   "outputs": [],
   "source": [
    "path = r\"E:\\Programing\\Magister\\Load Prediction\\Results\\Plots\\RNN\\TensorBoardData\\\\\"\n",
    "subFolders = [\n",
    "    # {\"path\":\"Models-compartaion\\\\\", \"title\": \"Ogólne porównanie modeli\",'iter': 20},\n",
    "    # {\"path\":\"BetterModelsCompare\\\\\", \"title\": \"Porownanie modeli lepiej sprawujacych sie modeli\",'iter': 20},\n",
    "   # {\"path\":\"BetterModelsCompare2\\\\\", \"title\": \"Porownanie modeli lepiej sprawujacych sie modeli z lepszym przetwarzaniem danych wejsciowych\",'ncol': 1},\n",
    "    # {\"path\":\"ModelsWithExpSmothing\\\\\", \"title\": \"Porownanie modeli z trenowanych na danych z wygładzenia wykłądniczego\",'ncol': 1},\n",
    "    {\"path\":\"Final\\\\\", \"title\": \"Porownanie modeli finalnych modeli wave net\",'ncol': 1, 'iter':78},\n",
    "    # {\"path\":\"EnergyDiffModelTest\\\\\", \"title\": \"Porownanie modeli dla danych będących rożnica energii\",'iter': 20},\n",
    "    # {\"path\":\"DataFormatingCompare\\\\\", \"title\": \"Porownanie metod przetwarzania danych\"},\n",
    "    # {\"path\":\"LSTMSizeComp\\\\\", \"title\": \"Porownanie LSTM dla 60 i 80 komórek\",'iter': 20},\n",
    "    # {\"path\":\"BatchSizeTest1\\\\\", 'lineType':'-', \"title\": \"Porownanie wplywu rozmiaru serii w jakich są procesowane dane dla malych serii\", 'ncol': 1, 'iter': 200},\n",
    "    # {\"path\":\"BatchSizeTest2\\\\\", 'lineType':'-',\"title\": \"Porownanie wplywu rozmiaru serii w jakich są procesowane dane dla dużych serii\", 'ncol': 1, 'iter': 200},\n",
    "]"
   ]
  },
  {
   "cell_type": "code",
   "execution_count": 24,
   "metadata": {},
   "outputs": [],
   "source": [
    "def plotFromDict(scores, title, path, lineType ='-o', ncol = 3,show=False, ticksAmout=20, n=-1):\n",
    "    fig = plt.figure(figsize=(10,6))\n",
    "    ax = plt.subplot(111)\n",
    "    \n",
    "    minLen = len(next(iter(scores)))\n",
    "    if n != -1:\n",
    "        minLen = n\n",
    "    print(minLen)\n",
    "    # for model in scores:\n",
    "    #     minLen = min(minLen,len(scores[model]))\n",
    "    for model in scores:\n",
    "        line, = ax.plot(scores[model][:minLen], lineType, label=model)\n",
    "    plt.title(title)\n",
    "    plt.xlabel(\"Iteracje\")\n",
    "    plt.ylabel(\"Wartość funkcji strat (MSE)\")\n",
    "    #ticksAmout = min(minLen,ticksAmout)\n",
    "    plt.xticks(range(0,minLen, max(1,minLen//ticksAmout)))\n",
    "    box = ax.get_position()\n",
    "    perc = (0.1 * (len(scores) / 2.8) / ncol)\n",
    "    ax.set_position([box.x0, box.y0 + box.height * perc + 0.07,\n",
    "                    box.width, box.height * (1 - perc)])\n",
    "\n",
    "    # Put a legend below current axis\n",
    "    ax.legend(loc='upper center', bbox_to_anchor=(0.5, -0.13),\n",
    "            fancybox=True, shadow=True, ncol=ncol)\n",
    "    \n",
    "    name = title.replace(' ','-').replace(':', '')\n",
    "    plt.savefig(path+name+'.png')\n",
    "    if show: plt.show()\n",
    "    plt.close()\n",
    "    "
   ]
  },
  {
   "cell_type": "code",
   "execution_count": 10,
   "metadata": {},
   "outputs": [],
   "source": [
    "def loadDataFromFolder(path):\n",
    "    dataFiles = []\n",
    "    for root, dirs, files in os.walk(path):\n",
    "        for file in files:\n",
    "            dataFiles.append(os.path.join(root,file))\n",
    "\n",
    "    data = {}\n",
    "    for file in dataFiles:\n",
    "        if(os.path.splitext(file)[1] == '.csv'):\n",
    "            with open(file,'r')as f:\n",
    "                lines = f.readlines()\n",
    "            name =os.path.splitext(os.path.basename(file))[0].replace(\"_validation\", \"\") \n",
    "            df = pd.read_csv(file)\n",
    "            #print(df.columns)\n",
    "            data[name] = df['Value']\n",
    "    return data\n"
   ]
  },
  {
   "cell_type": "code",
   "execution_count": 27,
   "metadata": {},
   "outputs": [
    {
     "data": {
      "text/plain": [
       "{'LPGPlusExp_n56_adam-LeRate-0.01-loss-mse_WaveNetFinal0.1-112-56-32-16-Batch-56': 0      1.694481\n",
       " 1      1.476766\n",
       " 2      1.322828\n",
       " 3      1.159348\n",
       " 4      1.040031\n",
       "          ...   \n",
       " 358    0.498085\n",
       " 359    0.532564\n",
       " 360    0.543234\n",
       " 361    0.522279\n",
       " 362    0.524998\n",
       " Name: Value, Length: 363, dtype: float64,\n",
       " 'WaveNetStridesFinal': 0      1.725978\n",
       " 1      1.576814\n",
       " 2      1.552171\n",
       " 3      1.511176\n",
       " 4      1.530105\n",
       "          ...   \n",
       " 195    0.584394\n",
       " 196    0.628927\n",
       " 197    0.596789\n",
       " 198    0.586894\n",
       " 199    0.583019\n",
       " Name: Value, Length: 200, dtype: float64}"
      ]
     },
     "execution_count": 27,
     "metadata": {},
     "output_type": "execute_result"
    }
   ],
   "source": [
    "data"
   ]
  },
  {
   "cell_type": "code",
   "execution_count": 26,
   "metadata": {},
   "outputs": [
    {
     "name": "stdout",
     "output_type": "stream",
     "text": [
      "78\n"
     ]
    }
   ],
   "source": [
    "for folder in subFolders:\n",
    "    data = loadDataFromFolder(path+folder['path'])\n",
    "    lt = '-o'\n",
    "    if('lineType' in folder): lt = folder['lineType']\n",
    "    ncol = 3\n",
    "    if('ncol' in folder): ncol = folder['ncol']\n",
    "    n = -1\n",
    "    if('iter' in folder): n = folder['iter']\n",
    "\n",
    "    plotFromDict(data,folder['title'],path,lt,ncol,n=n)"
   ]
  }
 ],
 "metadata": {
  "kernelspec": {
   "display_name": "base",
   "language": "python",
   "name": "python3"
  },
  "language_info": {
   "codemirror_mode": {
    "name": "ipython",
    "version": 3
   },
   "file_extension": ".py",
   "mimetype": "text/x-python",
   "name": "python",
   "nbconvert_exporter": "python",
   "pygments_lexer": "ipython3",
   "version": "3.9.12"
  },
  "orig_nbformat": 4,
  "vscode": {
   "interpreter": {
    "hash": "656c50696314d32fb4b5fa8516d1e76de7d8cf3413a3262fcb3f25593c5e568b"
   }
  }
 },
 "nbformat": 4,
 "nbformat_minor": 2
}
