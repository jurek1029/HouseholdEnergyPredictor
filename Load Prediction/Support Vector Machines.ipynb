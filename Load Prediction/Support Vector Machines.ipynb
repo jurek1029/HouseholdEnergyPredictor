{
 "cells": [
  {
   "cell_type": "code",
   "execution_count": 17,
   "id": "e5d85317",
   "metadata": {},
   "outputs": [],
   "source": [
    "import pandas as pd\n",
    "import numpy as np\n",
    "import datetime\n",
    "import os\n",
    "\n",
    "import matplotlib.pyplot as plt\n",
    "\n",
    "from sklearn.model_selection import train_test_split\n",
    "from sklearn.impute import SimpleImputer\n",
    "from sklearn.base import BaseEstimator, TransformerMixin\n",
    "\n",
    "from sklearn.pipeline import Pipeline\n",
    "from sklearn.preprocessing import StandardScaler\n",
    "\n",
    "from sklearn.metrics import mean_squared_error\n",
    "from sklearn.model_selection import cross_val_score\n",
    "\n",
    "from sklearn.svm import SVR\n",
    "\n",
    "from sklearn.model_selection import GridSearchCV\n",
    "\n",
    "from sklearn.preprocessing import PolynomialFeatures\n",
    "\n",
    "import joblib\n",
    "\n",
    "%config Completer.use_jedi = False\n",
    "%matplotlib inline  \n",
    "\n",
    "daily_data_path = \"Data/London/daily_dataset/daily_dataset/\"\n",
    "daily_weather_path = 'Data/London/weather_daily_darksky.csv'\n",
    "f_energy_all_name = \"energy_all.csv\"\n",
    "f_energy_clean_name = \"energy_clean\"\n",
    "f_energy_avg_name = \"energy_avg\"\n",
    "f_energy_avg_all_file = \"energy_avg_all.csv\"\n",
    "\n",
    "mode_path = \"Modes/\""
   ]
  },
  {
   "cell_type": "code",
   "execution_count": 3,
   "id": "5a735b69",
   "metadata": {},
   "outputs": [],
   "source": [
    "dtypes_in = {'avg_energy':'float32', 'day': 'int8', 'month': 'int8', 'temperatureMax': 'float16'}\n",
    "energy_data = pd.read_csv(f_energy_avg_name+'.csv', dtype=dtypes_in)\n",
    "\n",
    "energy = energy_data.drop('avg_energy', axis=1)\n",
    "energy_labels = energy_data['avg_energy'].copy()"
   ]
  },
  {
   "cell_type": "code",
   "execution_count": 4,
   "id": "c84fb049",
   "metadata": {},
   "outputs": [],
   "source": [
    "class AttributesAdder(BaseEstimator, TransformerMixin):\n",
    "    def __init__(self, add_house_income_cat=True): # no *args or **kargs\n",
    "        self.add_house_income_cat = add_house_income_cat\n",
    "    def fit(self, X, y=None):\n",
    "        return self  # nothing else to do\n",
    "    def transform(self, X):\n",
    "        return X\n",
    "    \n",
    "def display_scores(scores):\n",
    "    print(\"Scores:\", scores)\n",
    "    print(\"Mean:\", scores.mean())\n",
    "    print(\"Standard deviation:\", scores.std())"
   ]
  },
  {
   "cell_type": "code",
   "execution_count": 5,
   "id": "388996b1",
   "metadata": {},
   "outputs": [],
   "source": [
    "pipeline = Pipeline([\n",
    "        ('imputer', SimpleImputer(strategy=\"median\")),\n",
    "        ('attribs_adder', AttributesAdder()),\n",
    "        ('std_scaler', StandardScaler()),\n",
    "    ])\n",
    "\n",
    "energy_tr = pipeline.fit_transform(energy)"
   ]
  },
  {
   "cell_type": "markdown",
   "id": "bd9b3406",
   "metadata": {},
   "source": [
    "# Testing SVM models"
   ]
  },
  {
   "cell_type": "code",
   "execution_count": 26,
   "id": "06a521fa",
   "metadata": {},
   "outputs": [],
   "source": [
    "poly_features = PolynomialFeatures(degree=3, include_bias=False)\n",
    "energy_poly = poly_features.fit_transform(energy_tr)"
   ]
  },
  {
   "cell_type": "code",
   "execution_count": 11,
   "id": "bcfa2e1b",
   "metadata": {},
   "outputs": [
    {
     "name": "stdout",
     "output_type": "stream",
     "text": [
      "Scores: [1.56575636 1.09481928 0.56085929 0.42142872 0.83019566 1.55774541\n",
      " 0.65075733 0.38113112 0.48950624 1.679208  ]\n",
      "Mean: 0.9231407418824442\n",
      "Standard deviation: 0.4862506315391586\n"
     ]
    }
   ],
   "source": [
    "svm_reg = SVR(kernel=\"rbf\", degree=2, C=100, epsilon=0.1)\n",
    "scores = cross_val_score(svm_reg, energy_tr, energy_labels, scoring=\"neg_mean_squared_error\", cv=10)\n",
    "svm_rmse_scores = np.sqrt(-scores)\n",
    "display_scores(svm_rmse_scores)"
   ]
  },
  {
   "cell_type": "code",
   "execution_count": 13,
   "id": "594c995e",
   "metadata": {},
   "outputs": [
    {
     "name": "stdout",
     "output_type": "stream",
     "text": [
      "Scores: [1.62841232 1.18906117 0.58618282 0.43451391 0.88959102 2.67431348\n",
      " 0.6684     0.65713298 0.54903435 1.71524481]\n",
      "Mean: 1.0991886879787425\n",
      "Standard deviation: 0.6768499587008127\n"
     ]
    }
   ],
   "source": [
    "svm_reg = SVR(kernel=\"rbf\", degree=2, C=100, epsilon=0.1)\n",
    "scores = cross_val_score(svm_reg, energy_poly, energy_labels, scoring=\"neg_mean_squared_error\", cv=10)\n",
    "svm_rmse_scores = np.sqrt(-scores)\n",
    "display_scores(svm_rmse_scores)"
   ]
  },
  {
   "cell_type": "code",
   "execution_count": 20,
   "id": "6da6df80",
   "metadata": {},
   "outputs": [
    {
     "data": {
      "text/plain": [
       "GridSearchCV(cv=5, estimator=SVR(), n_jobs=-1,\n",
       "             param_grid={'C': [1, 10, 100], 'epsilon': [10, 1, 0.1, 0.01],\n",
       "                         'kernel': ['linear', 'rbf', 'sigmoid']},\n",
       "             return_train_score=True, scoring='neg_mean_squared_error')"
      ]
     },
     "execution_count": 20,
     "metadata": {},
     "output_type": "execute_result"
    }
   ],
   "source": [
    "param_grid = {\n",
    "    'kernel': ['linear', 'rbf', 'sigmoid'],\n",
    "    'C': [1, 10, 100],\n",
    "    'epsilon':[10,1,0.1,0.01]\n",
    "}\n",
    "\n",
    "svm_reg = SVR()\n",
    "\n",
    "grid_search_svm = GridSearchCV(svm_reg, param_grid, cv=5, scoring='neg_mean_squared_error', return_train_score=True, n_jobs=-1)\n",
    "grid_search_svm.fit(energy_tr, energy_labels)"
   ]
  },
  {
   "cell_type": "code",
   "execution_count": 23,
   "id": "ab727e17",
   "metadata": {},
   "outputs": [
    {
     "name": "stdout",
     "output_type": "stream",
     "text": [
      "Best Score: 0.9277103132094748\n",
      "Best Hyperparameters: {'C': 1, 'epsilon': 0.01, 'kernel': 'rbf'}\n"
     ]
    }
   ],
   "source": [
    "print('Best Score: %s' % np.sqrt(-grid_search_svm.best_score_))\n",
    "print('Best Hyperparameters: %s' % grid_search_svm.best_params_)"
   ]
  },
  {
   "cell_type": "code",
   "execution_count": 27,
   "id": "336ccb63",
   "metadata": {},
   "outputs": [
    {
     "data": {
      "text/plain": [
       "GridSearchCV(cv=5, estimator=SVR(), n_jobs=-1,\n",
       "             param_grid={'C': [1, 10, 100], 'epsilon': [10, 1, 0.1, 0.01],\n",
       "                         'kernel': ['linear', 'rbf', 'sigmoid']},\n",
       "             return_train_score=True, scoring='neg_mean_squared_error')"
      ]
     },
     "execution_count": 27,
     "metadata": {},
     "output_type": "execute_result"
    }
   ],
   "source": [
    "grid_search_svm_poly = GridSearchCV(svm_reg, param_grid, cv=5, scoring='neg_mean_squared_error', return_train_score=True, n_jobs=-1)\n",
    "grid_search_svm_poly.fit(energy_poly, energy_labels)"
   ]
  },
  {
   "cell_type": "code",
   "execution_count": 25,
   "id": "4b3fe909",
   "metadata": {},
   "outputs": [
    {
     "name": "stdout",
     "output_type": "stream",
     "text": [
      "Best Score: 0.8910818601140648\n",
      "Best Hyperparameters: {'C': 100, 'epsilon': 0.01, 'kernel': 'linear'}\n"
     ]
    }
   ],
   "source": [
    "print('Best Score: %s' % np.sqrt(-grid_search_svm.best_score_))\n",
    "print('Best Hyperparameters: %s' % grid_search_svm.best_params_)"
   ]
  },
  {
   "cell_type": "code",
   "execution_count": 28,
   "id": "9f1c34f6",
   "metadata": {},
   "outputs": [
    {
     "name": "stdout",
     "output_type": "stream",
     "text": [
      "Best Score: 0.8978551761623954\n",
      "Best Hyperparameters: {'C': 1, 'epsilon': 0.01, 'kernel': 'linear'}\n"
     ]
    }
   ],
   "source": [
    "print('Best Score: %s' % np.sqrt(-grid_search_svm_poly.best_score_))\n",
    "print('Best Hyperparameters: %s' % grid_search_svm_poly.best_params_)"
   ]
  },
  {
   "cell_type": "code",
   "execution_count": null,
   "id": "876db5f1",
   "metadata": {},
   "outputs": [],
   "source": []
  }
 ],
 "metadata": {
  "kernelspec": {
   "display_name": "Python 3 (ipykernel)",
   "language": "python",
   "name": "python3"
  },
  "language_info": {
   "codemirror_mode": {
    "name": "ipython",
    "version": 3
   },
   "file_extension": ".py",
   "mimetype": "text/x-python",
   "name": "python",
   "nbconvert_exporter": "python",
   "pygments_lexer": "ipython3",
   "version": "3.7.4"
  }
 },
 "nbformat": 4,
 "nbformat_minor": 5
}
