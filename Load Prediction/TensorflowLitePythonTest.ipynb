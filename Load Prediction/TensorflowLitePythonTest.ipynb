{
 "cells": [
  {
   "cell_type": "code",
   "execution_count": 2,
   "metadata": {},
   "outputs": [],
   "source": [
    "import numpy as np\n",
    "import tensorflow as tf"
   ]
  },
  {
   "cell_type": "code",
   "execution_count": 3,
   "metadata": {},
   "outputs": [
    {
     "name": "stdout",
     "output_type": "stream",
     "text": [
      "INFO:tensorflow:Assets written to: content/saved_models/test_variable\\assets\n",
      "[[5. 5. 5. 5. 5. 5. 5. 5. 5. 5.]]\n"
     ]
    }
   ],
   "source": [
    "class TestModel(tf.Module):\n",
    "  def __init__(self):\n",
    "    super(TestModel, self).__init__()\n",
    "\n",
    "  @tf.function(input_signature=[tf.TensorSpec(shape=[1, 10], dtype=tf.float32)])\n",
    "  def add(self, x):\n",
    "    '''\n",
    "    Simple method that accepts single input 'x' and returns 'x' + 4.\n",
    "    '''\n",
    "    # Name the output 'result' for convenience.\n",
    "    return {'result' : x + 4}\n",
    "\n",
    "\n",
    "SAVED_MODEL_PATH = 'content/saved_models/test_variable'\n",
    "TFLITE_FILE_PATH = 'content/test_variable.tflite'\n",
    "\n",
    "# Save the model\n",
    "module = TestModel()\n",
    "# You can omit the signatures argument and a default signature name will be\n",
    "# created with name 'serving_default'.\n",
    "tf.saved_model.save(\n",
    "    module, SAVED_MODEL_PATH,\n",
    "    signatures={'my_signature':module.add.get_concrete_function()})\n",
    "\n",
    "# Convert the model using TFLiteConverter\n",
    "converter = tf.lite.TFLiteConverter.from_saved_model(SAVED_MODEL_PATH)\n",
    "tflite_model = converter.convert()\n",
    "with open(TFLITE_FILE_PATH, 'wb') as f:\n",
    "  f.write(tflite_model)\n",
    "\n",
    "# Load the TFLite model in TFLite Interpreter\n",
    "interpreter = tf.lite.Interpreter(TFLITE_FILE_PATH)\n",
    "# There is only 1 signature defined in the model,\n",
    "# so it will return it by default.\n",
    "# If there are multiple signatures then we can pass the name.\n",
    "my_signature = interpreter.get_signature_runner()\n",
    "\n",
    "# my_signature is callable with input as arguments.\n",
    "output = my_signature(x=tf.constant([1.0], shape=(1,10), dtype=tf.float32))\n",
    "# 'output' is dictionary with all outputs from the inference.\n",
    "# In this case we have single output 'result'.\n",
    "print(output['result'])"
   ]
  },
  {
   "cell_type": "code",
   "execution_count": 4,
   "metadata": {},
   "outputs": [
    {
     "ename": "ValueError",
     "evalue": "Could not open 'Models/_Lite/WaveNetFinal0.3.tflite'.",
     "output_type": "error",
     "traceback": [
      "\u001b[1;31m---------------------------------------------------------------------------\u001b[0m",
      "\u001b[1;31mValueError\u001b[0m                                Traceback (most recent call last)",
      "\u001b[1;32m~\\AppData\\Local\\Temp/ipykernel_16152/88942784.py\u001b[0m in \u001b[0;36m<module>\u001b[1;34m\u001b[0m\n\u001b[0;32m      1\u001b[0m \u001b[0mf_model\u001b[0m \u001b[1;33m=\u001b[0m \u001b[1;34m\"Models/_Lite/\"\u001b[0m\u001b[1;33m\u001b[0m\u001b[1;33m\u001b[0m\u001b[0m\n\u001b[0;32m      2\u001b[0m \u001b[1;31m# Load the TFLite model and allocate tensors.\u001b[0m\u001b[1;33m\u001b[0m\u001b[1;33m\u001b[0m\u001b[1;33m\u001b[0m\u001b[0m\n\u001b[1;32m----> 3\u001b[1;33m \u001b[0minterpreter\u001b[0m \u001b[1;33m=\u001b[0m \u001b[0mtf\u001b[0m\u001b[1;33m.\u001b[0m\u001b[0mlite\u001b[0m\u001b[1;33m.\u001b[0m\u001b[0mInterpreter\u001b[0m\u001b[1;33m(\u001b[0m\u001b[0mmodel_path\u001b[0m\u001b[1;33m=\u001b[0m\u001b[0mf_model\u001b[0m\u001b[1;33m+\u001b[0m\u001b[1;34m\"WaveNetFinal0.3.tflite\"\u001b[0m\u001b[1;33m)\u001b[0m\u001b[1;33m\u001b[0m\u001b[1;33m\u001b[0m\u001b[0m\n\u001b[0m\u001b[0;32m      4\u001b[0m \u001b[0minterpreter\u001b[0m\u001b[1;33m.\u001b[0m\u001b[0mallocate_tensors\u001b[0m\u001b[1;33m(\u001b[0m\u001b[1;33m)\u001b[0m\u001b[1;33m\u001b[0m\u001b[1;33m\u001b[0m\u001b[0m\n\u001b[0;32m      5\u001b[0m \u001b[1;33m\u001b[0m\u001b[0m\n",
      "\u001b[1;32mc:\\Users\\jurek\\.pyenv\\pyenv-win\\versions\\3.7.4-amd64\\lib\\site-packages\\tensorflow\\lite\\python\\interpreter.py\u001b[0m in \u001b[0;36m__init__\u001b[1;34m(self, model_path, model_content, experimental_delegates, num_threads, experimental_op_resolver_type, experimental_preserve_all_tensors)\u001b[0m\n\u001b[0;32m    365\u001b[0m           _interpreter_wrapper.CreateWrapperFromFile(\n\u001b[0;32m    366\u001b[0m               \u001b[0mmodel_path\u001b[0m\u001b[1;33m,\u001b[0m \u001b[0mop_resolver_id\u001b[0m\u001b[1;33m,\u001b[0m \u001b[0mcustom_op_registerers_by_name\u001b[0m\u001b[1;33m,\u001b[0m\u001b[1;33m\u001b[0m\u001b[1;33m\u001b[0m\u001b[0m\n\u001b[1;32m--> 367\u001b[1;33m               custom_op_registerers_by_func, experimental_preserve_all_tensors))\n\u001b[0m\u001b[0;32m    368\u001b[0m       \u001b[1;32mif\u001b[0m \u001b[1;32mnot\u001b[0m \u001b[0mself\u001b[0m\u001b[1;33m.\u001b[0m\u001b[0m_interpreter\u001b[0m\u001b[1;33m:\u001b[0m\u001b[1;33m\u001b[0m\u001b[1;33m\u001b[0m\u001b[0m\n\u001b[0;32m    369\u001b[0m         \u001b[1;32mraise\u001b[0m \u001b[0mValueError\u001b[0m\u001b[1;33m(\u001b[0m\u001b[1;34m'Failed to open {}'\u001b[0m\u001b[1;33m.\u001b[0m\u001b[0mformat\u001b[0m\u001b[1;33m(\u001b[0m\u001b[0mmodel_path\u001b[0m\u001b[1;33m)\u001b[0m\u001b[1;33m)\u001b[0m\u001b[1;33m\u001b[0m\u001b[1;33m\u001b[0m\u001b[0m\n",
      "\u001b[1;31mValueError\u001b[0m: Could not open 'Models/_Lite/WaveNetFinal0.3.tflite'."
     ]
    }
   ],
   "source": [
    "f_model = \"Models/_Lite/\"\n",
    "# Load the TFLite model and allocate tensors.\n",
    "interpreter = tf.lite.Interpreter(model_path=f_model+\"WaveNetFinal0.3.tflite\")\n",
    "interpreter.allocate_tensors()\n",
    "\n",
    "# Get input and output tensors.\n",
    "input_details = interpreter.get_input_details()\n",
    "output_details = interpreter.get_output_details()\n",
    "\n",
    "# Test the model on random input data.\n",
    "input_shape = input_details[0]['shape']\n",
    "input_data = np.array(np.random.random_sample(input_shape), dtype=np.float32)\n",
    "interpreter.set_tensor(input_details[0]['index'], input_data)\n",
    "\n",
    "interpreter.invoke()\n",
    "\n",
    "# The function `get_tensor()` returns a copy of the tensor data.\n",
    "# Use `tensor()` in order to get a pointer to the tensor.\n",
    "output_data = interpreter.get_tensor(output_details[0]['index'])\n",
    "print(output_data)"
   ]
  }
 ],
 "metadata": {
  "kernelspec": {
   "display_name": "Python 3.7.4 64-bit",
   "language": "python",
   "name": "python3"
  },
  "language_info": {
   "codemirror_mode": {
    "name": "ipython",
    "version": 3
   },
   "file_extension": ".py",
   "mimetype": "text/x-python",
   "name": "python",
   "nbconvert_exporter": "python",
   "pygments_lexer": "ipython3",
   "version": "3.7.4"
  },
  "orig_nbformat": 4,
  "vscode": {
   "interpreter": {
    "hash": "59acfeb3f47181c7d27a6d5fd292581940b5ce2ca017d2014e8174671486b380"
   }
  }
 },
 "nbformat": 4,
 "nbformat_minor": 2
}
