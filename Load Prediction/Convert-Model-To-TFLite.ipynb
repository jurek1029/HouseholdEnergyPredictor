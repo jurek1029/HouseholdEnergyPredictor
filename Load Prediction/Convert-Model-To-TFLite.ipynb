{
 "cells": [
  {
   "cell_type": "code",
   "execution_count": 1,
   "metadata": {},
   "outputs": [],
   "source": [
    "import tensorflow as tf\n",
    "from tensorflow import keras\n",
    "import numpy as np\n",
    "import pandas as pd\n",
    "\n",
    "f_modele_path = \"Models/\"\n",
    "f_modele_lite_path = 'Models/_Lite/'"
   ]
  },
  {
   "cell_type": "code",
   "execution_count": 29,
   "metadata": {},
   "outputs": [],
   "source": [
    "prefix = \"LSTMUnRBatchNormDropTest-56-32\"\n",
    "prefix = \"WaveNet1.0\""
   ]
  },
  {
   "cell_type": "code",
   "execution_count": 30,
   "metadata": {},
   "outputs": [],
   "source": [
    "# Convert the model\n",
    "converter = tf.lite.TFLiteConverter.from_saved_model(f_modele_path + prefix +\"-16-Batch-56-epoch-30\")\n",
    "tflite_model = converter.convert()\n",
    "\n",
    "# Save the model.\n",
    "with open(f_modele_lite_path + prefix + '.tflite', 'wb') as f:\n",
    "  f.write(tflite_model)"
   ]
  },
  {
   "cell_type": "code",
   "execution_count": 31,
   "metadata": {},
   "outputs": [
    {
     "data": {
      "text/plain": [
       "10176"
      ]
     },
     "execution_count": 31,
     "metadata": {},
     "output_type": "execute_result"
    }
   ],
   "source": [
    "converter = tf.lite.TFLiteConverter.from_saved_model(f_modele_path + prefix + \"-16-Batch-56-epoch-30\")\n",
    "\n",
    "# Convert the model to the TensorFlow Lite format with quantization\n",
    "with open(\"PrepedData/Test/LPG4XTrain0.4.npy\", \"rb\") as f:\n",
    "    XTrain = np.load(f)\n",
    "\n",
    "def representative_dataset():\n",
    "    for X in XTrain:\n",
    "      data = X.reshape(1,40,4)\n",
    "      yield [data.astype(np.float32)]\n",
    "# Set the optimization flag.\n",
    "converter.optimizations = [tf.lite.Optimize.DEFAULT]\n",
    "# # converter.target_spec.supported_ops = [tf.lite.OpsSet.TFLITE_BUILTINS,\n",
    "# #                                        tf.lite.OpsSet.SELECT_TF_OPS]\n",
    "# # converter.experimental_new_converter = True\n",
    "# # Enforce integer only quantization\n",
    "converter.target_spec.supported_ops = [tf.lite.OpsSet.TFLITE_BUILTINS_INT8]\n",
    "converter.inference_input_type = tf.int8\n",
    "converter.inference_output_type = tf.int8\n",
    "# Provide a representative dataset to ensure we quantize correctly.\n",
    "converter.representative_dataset = representative_dataset\n",
    "model_tflite = converter.convert()\n",
    "\n",
    "# Save the model to disk\n",
    "open(f_modele_lite_path + prefix +'quantized.tflite', \"wb\").write(model_tflite)"
   ]
  },
  {
   "cell_type": "code",
   "execution_count": 32,
   "metadata": {},
   "outputs": [],
   "source": [
    "fname = f_modele_lite_path + prefix +'quantized'\n",
    "!wsl xxd -i {fname +'.tflite'} > {fname +'.h'}\n",
    "s = fname +'.tflite'\n",
    "s = s.replace('/', '_').replace('.', '_').replace('-', '_')\n",
    "!wsl sed -i 's/'{s}'/g_model/g' {fname +'.h'}"
   ]
  },
  {
   "cell_type": "code",
   "execution_count": 33,
   "metadata": {},
   "outputs": [],
   "source": [
    "import pyperclip\n",
    "with open(f_modele_lite_path + prefix +'quantized.h','r') as f:\n",
    "    s = \"alignas(8) const \" + f.read().replace('unsigned int', 'const int') \n",
    "    pyperclip.copy(s)\n",
    "    f.close()"
   ]
  },
  {
   "cell_type": "code",
   "execution_count": 14,
   "metadata": {},
   "outputs": [],
   "source": [
    "df = pd.read_feather('PrepedData/LPG-Profile-4-plus-exp.feather')"
   ]
  },
  {
   "cell_type": "code",
   "execution_count": 16,
   "metadata": {},
   "outputs": [
    {
     "data": {
      "text/plain": [
       "(8.106128643591507, 0.12007945580992319)"
      ]
     },
     "execution_count": 16,
     "metadata": {},
     "output_type": "execute_result"
    }
   ],
   "source": [
    "df.energy.max(), df.energy.min()"
   ]
  },
  {
   "cell_type": "code",
   "execution_count": null,
   "metadata": {},
   "outputs": [],
   "source": []
  }
 ],
 "metadata": {
  "kernelspec": {
   "display_name": "Python 3.7.4 64-bit",
   "language": "python",
   "name": "python3"
  },
  "language_info": {
   "codemirror_mode": {
    "name": "ipython",
    "version": 3
   },
   "file_extension": ".py",
   "mimetype": "text/x-python",
   "name": "python",
   "nbconvert_exporter": "python",
   "pygments_lexer": "ipython3",
   "version": "3.7.4"
  },
  "orig_nbformat": 4,
  "vscode": {
   "interpreter": {
    "hash": "59acfeb3f47181c7d27a6d5fd292581940b5ce2ca017d2014e8174671486b380"
   }
  }
 },
 "nbformat": 4,
 "nbformat_minor": 2
}
