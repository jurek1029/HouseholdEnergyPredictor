{
 "cells": [
  {
   "cell_type": "code",
   "execution_count": 14,
   "id": "0ed3fd71",
   "metadata": {},
   "outputs": [],
   "source": [
    "import pandas as pd\n",
    "import numpy as np\n",
    "import datetime\n",
    "import os\n",
    "\n",
    "import matplotlib.pyplot as plt\n",
    "\n",
    "from sklearn.model_selection import train_test_split\n",
    "from sklearn.impute import SimpleImputer\n",
    "from sklearn.base import BaseEstimator, TransformerMixin\n",
    "\n",
    "from sklearn.pipeline import Pipeline\n",
    "from sklearn.preprocessing import StandardScaler\n",
    "\n",
    "from sklearn.metrics import mean_squared_error\n",
    "from sklearn.model_selection import cross_val_score\n",
    "\n",
    "from sklearn.tree import DecisionTreeRegressor\n",
    "from sklearn.ensemble import GradientBoostingRegressor\n",
    "from sklearn.ensemble import RandomForestRegressor\n",
    "import xgboost\n",
    "\n",
    "from sklearn.model_selection import GridSearchCV\n",
    "\n",
    "from sklearn.preprocessing import PolynomialFeatures\n",
    "\n",
    "import joblib\n",
    "\n",
    "%config Completer.use_jedi = False\n",
    "%matplotlib inline  \n",
    "\n",
    "daily_data_path = \"Data/London/daily_dataset/daily_dataset/\"\n",
    "daily_weather_path = 'Data/London/weather_daily_darksky.csv'\n",
    "f_energy_all_name = \"energy_all.csv\"\n",
    "f_energy_clean_name = \"energy_clean\"\n",
    "f_energy_avg_name = \"energy_avg\"\n",
    "f_energy_avg_all_file = \"energy_avg_all.csv\"\n",
    "\n",
    "mode_path = \"Modes/\""
   ]
  },
  {
   "cell_type": "code",
   "execution_count": 2,
   "id": "de55c121",
   "metadata": {},
   "outputs": [],
   "source": [
    "dtypes_in = {'avg_energy':'float32', 'day': 'int8', 'month': 'int8', 'temperatureMax': 'float16'}\n",
    "energy_data = pd.read_csv(f_energy_avg_name+'.csv', dtype=dtypes_in)\n",
    "\n",
    "energy = energy_data.drop('avg_energy', axis=1)\n",
    "energy_labels = energy_data['avg_energy'].copy()"
   ]
  },
  {
   "cell_type": "code",
   "execution_count": 3,
   "id": "378152cd",
   "metadata": {},
   "outputs": [],
   "source": [
    "class AttributesAdder(BaseEstimator, TransformerMixin):\n",
    "    def __init__(self, add_house_income_cat=True): # no *args or **kargs\n",
    "        self.add_house_income_cat = add_house_income_cat\n",
    "    def fit(self, X, y=None):\n",
    "        return self  # nothing else to do\n",
    "    def transform(self, X):\n",
    "        return X\n",
    "    \n",
    "def display_scores(scores):\n",
    "    print(\"Scores:\", scores)\n",
    "    print(\"Mean:\", scores.mean())\n",
    "    print(\"Standard deviation:\", scores.std())"
   ]
  },
  {
   "cell_type": "code",
   "execution_count": 4,
   "id": "b44c1969",
   "metadata": {},
   "outputs": [],
   "source": [
    "pipeline = Pipeline([\n",
    "        ('imputer', SimpleImputer(strategy=\"median\")),\n",
    "        ('attribs_adder', AttributesAdder()),\n",
    "        ('std_scaler', StandardScaler()),\n",
    "    ])\n",
    "\n",
    "energy_tr = pipeline.fit_transform(energy)"
   ]
  },
  {
   "cell_type": "markdown",
   "id": "047d2e8f",
   "metadata": {},
   "source": [
    "# Testing Modes"
   ]
  },
  {
   "cell_type": "code",
   "execution_count": 7,
   "id": "57728c81",
   "metadata": {},
   "outputs": [
    {
     "name": "stdout",
     "output_type": "stream",
     "text": [
      "Scores: [1.52808466 1.29914454 0.606339   0.50835662 1.34880589 1.84902667\n",
      " 0.84112869 0.345187   0.78815926 1.81021472]\n",
      "Mean: 1.0924447054610258\n",
      "Standard deviation: 0.517439775255962\n"
     ]
    }
   ],
   "source": [
    "tree_reg = DecisionTreeRegressor()\n",
    "scores = cross_val_score(tree_reg, energy_tr, energy_labels, scoring=\"neg_mean_squared_error\", cv=10)\n",
    "tree_reg_rmse_scores = np.sqrt(-scores)\n",
    "display_scores(tree_reg_rmse_scores)"
   ]
  },
  {
   "cell_type": "code",
   "execution_count": 10,
   "id": "ca9e0268",
   "metadata": {},
   "outputs": [
    {
     "name": "stdout",
     "output_type": "stream",
     "text": [
      "Scores: [1.37048352 1.0598776  0.51230995 0.33497726 0.75321174 1.38626535\n",
      " 0.70434715 0.32221306 0.50975959 1.67342381]\n",
      "Mean: 0.8626869032256481\n",
      "Standard deviation: 0.4564140365417824\n"
     ]
    }
   ],
   "source": [
    "gb_reg = GradientBoostingRegressor()\n",
    "scores = cross_val_score(gb_reg, energy_tr, energy_labels, scoring=\"neg_mean_squared_error\", cv=10)\n",
    "gb_reg_rmse_scores = np.sqrt(-scores)\n",
    "display_scores(gb_reg_rmse_scores)"
   ]
  },
  {
   "cell_type": "code",
   "execution_count": 17,
   "id": "aa0a70d9",
   "metadata": {},
   "outputs": [
    {
     "data": {
      "text/plain": [
       "GradientBoostingRegressor(max_depth=2, n_estimators=45)"
      ]
     },
     "execution_count": 17,
     "metadata": {},
     "output_type": "execute_result"
    }
   ],
   "source": [
    "energy_train, energy_val, labels_train, labels_val = train_test_split(energy_tr, energy_labels)\n",
    "\n",
    "gbrt = GradientBoostingRegressor(max_depth=2, n_estimators=120)\n",
    "gbrt.fit(energy_train, labels_train)\n",
    "\n",
    "errors = [mean_squared_error(labels_val, label_pred) for label_pred in gbrt.staged_predict(energy_val)]\n",
    "bst_n_estimators = np.argmin(errors) + 1\n",
    "\n",
    "gbrt_best = GradientBoostingRegressor(max_depth=2,n_estimators=bst_n_estimators)\n",
    "gbrt_best.fit(energy_train, labels_train)"
   ]
  },
  {
   "cell_type": "code",
   "execution_count": 18,
   "id": "e818f420",
   "metadata": {},
   "outputs": [
    {
     "name": "stdout",
     "output_type": "stream",
     "text": [
      "Scores: [1.3868569  1.27830277 0.58934648 0.40661581 0.69926826 0.96493387\n",
      " 0.83910302 0.45111377 0.56701631 1.6411979 ]\n",
      "Mean: 0.88237550782808\n",
      "Standard deviation: 0.40335336313011466\n"
     ]
    }
   ],
   "source": [
    "scores = cross_val_score(gbrt_best, energy_tr, energy_labels, scoring=\"neg_mean_squared_error\", cv=10)\n",
    "gb_reg_rmse_scores = np.sqrt(-scores)\n",
    "display_scores(gb_reg_rmse_scores)"
   ]
  },
  {
   "cell_type": "code",
   "execution_count": 22,
   "id": "8bf28e0f",
   "metadata": {},
   "outputs": [
    {
     "name": "stdout",
     "output_type": "stream",
     "text": [
      "[0]\tvalidation_0-rmse:7.25088\n",
      "[1]\tvalidation_0-rmse:5.12850\n",
      "[2]\tvalidation_0-rmse:3.66541\n",
      "[3]\tvalidation_0-rmse:2.61963\n",
      "[4]\tvalidation_0-rmse:1.89319\n",
      "[5]\tvalidation_0-rmse:1.39998\n",
      "[6]\tvalidation_0-rmse:1.06276\n",
      "[7]\tvalidation_0-rmse:0.86298\n",
      "[8]\tvalidation_0-rmse:0.75724\n",
      "[9]\tvalidation_0-rmse:0.69308\n",
      "[10]\tvalidation_0-rmse:0.67022\n",
      "[11]\tvalidation_0-rmse:0.65239\n",
      "[12]\tvalidation_0-rmse:0.64915\n",
      "[13]\tvalidation_0-rmse:0.64531\n",
      "[14]\tvalidation_0-rmse:0.64723\n"
     ]
    }
   ],
   "source": [
    "xgb_reg = xgboost.XGBRegressor(early_stopping_rounds=2)\n",
    "xgb_reg.fit(energy_train, labels_train,\n",
    "            eval_set=[(energy_val, labels_val)])\n",
    "y_pred = xgb_reg.predict(energy_val)"
   ]
  },
  {
   "cell_type": "code",
   "execution_count": 25,
   "id": "c4dc49a6",
   "metadata": {},
   "outputs": [
    {
     "data": {
      "text/plain": [
       "0.6453072"
      ]
     },
     "execution_count": 25,
     "metadata": {},
     "output_type": "execute_result"
    }
   ],
   "source": [
    "np.sqrt(mean_squared_error(y_pred,labels_val))"
   ]
  },
  {
   "cell_type": "code",
   "execution_count": 36,
   "id": "7bcb5556",
   "metadata": {},
   "outputs": [
    {
     "name": "stdout",
     "output_type": "stream",
     "text": [
      "Scores: [1.39821026 1.19031928 0.55932612 0.39950404 0.93197082 1.36573885\n",
      " 0.74720067 0.28701079 0.6009082  1.68567778]\n",
      "Mean: 0.9165866798259218\n",
      "Standard deviation: 0.44945368758127063\n"
     ]
    }
   ],
   "source": [
    "xgb2_reg = xgboost.XGBRegressor(early_stopping_rounds=2)\n",
    "scores = cross_val_score(xgb2_reg, energy_tr, energy_labels, scoring=\"neg_mean_squared_error\", cv=10,\n",
    "                         fit_params={'eval_set':[(energy_val, labels_val)], 'verbose': False})\n",
    "gb_reg_rmse_scores = np.sqrt(-scores)\n",
    "display_scores(gb_reg_rmse_scores)"
   ]
  },
  {
   "cell_type": "code",
   "execution_count": 29,
   "id": "bd564490",
   "metadata": {},
   "outputs": [
    {
     "name": "stdout",
     "output_type": "stream",
     "text": [
      "Scores: [1.4526763  1.13905048 0.57173363 0.37364241 0.94185528 1.38959616\n",
      " 0.7663779  0.32125161 0.6522414  1.69755652]\n",
      "Mean: 0.9305981695111145\n",
      "Standard deviation: 0.4505315109485508\n"
     ]
    }
   ],
   "source": [
    "forest_reg = RandomForestRegressor()\n",
    "scores = cross_val_score(forest_reg, energy_tr, energy_labels, scoring=\"neg_mean_squared_error\", cv=10)\n",
    "forest_rmse_scores = np.sqrt(-scores)\n",
    "display_scores(forest_rmse_scores)"
   ]
  },
  {
   "cell_type": "code",
   "execution_count": 30,
   "id": "3cdfe4ff",
   "metadata": {},
   "outputs": [
    {
     "data": {
      "text/plain": [
       "array([0.02541236, 0.36590272, 0.6086849 ], dtype=float32)"
      ]
     },
     "execution_count": 30,
     "metadata": {},
     "output_type": "execute_result"
    }
   ],
   "source": [
    "xgb_reg.feature_importances_"
   ]
  },
  {
   "cell_type": "code",
   "execution_count": 34,
   "id": "6d0c667b",
   "metadata": {},
   "outputs": [
    {
     "ename": "AttributeError",
     "evalue": "`feature_names_in_` is defined only when `X` has feature names that are all strings.",
     "output_type": "error",
     "traceback": [
      "\u001b[1;31m---------------------------------------------------------------------------\u001b[0m",
      "\u001b[1;31mAttributeError\u001b[0m                            Traceback (most recent call last)",
      "\u001b[1;32m~\\AppData\\Local\\Temp/ipykernel_16516/3916393562.py\u001b[0m in \u001b[0;36m<module>\u001b[1;34m\u001b[0m\n\u001b[1;32m----> 1\u001b[1;33m \u001b[0mxgb_reg\u001b[0m\u001b[1;33m.\u001b[0m\u001b[0mfeature_names_in_\u001b[0m\u001b[1;33m\u001b[0m\u001b[1;33m\u001b[0m\u001b[0m\n\u001b[0m",
      "\u001b[1;32mc:\\users\\jurek\\.pyenv\\pyenv-win\\versions\\3.7.4-amd64\\lib\\site-packages\\xgboost\\sklearn.py\u001b[0m in \u001b[0;36mfeature_names_in_\u001b[1;34m(self)\u001b[0m\n\u001b[0;32m   1157\u001b[0m         \u001b[1;32mif\u001b[0m \u001b[0mfeature_names\u001b[0m \u001b[1;32mis\u001b[0m \u001b[1;32mNone\u001b[0m\u001b[1;33m:\u001b[0m\u001b[1;33m\u001b[0m\u001b[1;33m\u001b[0m\u001b[0m\n\u001b[0;32m   1158\u001b[0m             raise AttributeError(\n\u001b[1;32m-> 1159\u001b[1;33m                 \u001b[1;34m\"`feature_names_in_` is defined only when `X` has feature names that \"\u001b[0m\u001b[1;33m\u001b[0m\u001b[1;33m\u001b[0m\u001b[0m\n\u001b[0m\u001b[0;32m   1160\u001b[0m                 \u001b[1;34m\"are all strings.\"\u001b[0m\u001b[1;33m\u001b[0m\u001b[1;33m\u001b[0m\u001b[0m\n\u001b[0;32m   1161\u001b[0m             )\n",
      "\u001b[1;31mAttributeError\u001b[0m: `feature_names_in_` is defined only when `X` has feature names that are all strings."
     ]
    }
   ],
   "source": []
  },
  {
   "cell_type": "code",
   "execution_count": null,
   "id": "aaad3bf1",
   "metadata": {},
   "outputs": [],
   "source": []
  }
 ],
 "metadata": {
  "kernelspec": {
   "display_name": "Python 3 (ipykernel)",
   "language": "python",
   "name": "python3"
  },
  "language_info": {
   "codemirror_mode": {
    "name": "ipython",
    "version": 3
   },
   "file_extension": ".py",
   "mimetype": "text/x-python",
   "name": "python",
   "nbconvert_exporter": "python",
   "pygments_lexer": "ipython3",
   "version": "3.7.4"
  }
 },
 "nbformat": 4,
 "nbformat_minor": 5
}
